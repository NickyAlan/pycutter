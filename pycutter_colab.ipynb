{
  "nbformat": 4,
  "nbformat_minor": 0,
  "metadata": {
    "colab": {
      "provenance": [],
      "authorship_tag": "ABX9TyPVW9UBTod94dgGZHZ9/orY",
      "include_colab_link": true
    },
    "kernelspec": {
      "name": "python3",
      "display_name": "Python 3"
    },
    "language_info": {
      "name": "python"
    }
  },
  "cells": [
    {
      "cell_type": "markdown",
      "metadata": {
        "id": "view-in-github",
        "colab_type": "text"
      },
      "source": [
        "<a href=\"https://colab.research.google.com/github/NickygenN1/pycutter/blob/main/pycutter_colab.ipynb\" target=\"_parent\"><img src=\"https://colab.research.google.com/assets/colab-badge.svg\" alt=\"Open In Colab\"/></a>"
      ]
    },
    {
      "cell_type": "code",
      "execution_count": null,
      "metadata": {
        "id": "bjOKf1jQM92N"
      },
      "outputs": [],
      "source": [
        "!git clone https://github.com/NickygenN1/pycutter.git\n",
        "\n",
        "import os\n",
        "os.chdir('pycutter')\n",
        "!pip install -r requirements.txt"
      ]
    },
    {
      "cell_type": "markdown",
      "source": [
        "## Removing or Preserving Silent Parts in .mp4 or .mp3 Files"
      ],
      "metadata": {
        "id": "YHLoF39CjHte"
      }
    },
    {
      "cell_type": "code",
      "source": [
        "from cutter import CutterIt\n",
        "\n",
        "# upload and move file into pycutter folder and change filepath !!\n",
        "filepath = 'video.mp4'\n",
        "\n",
        "cut = CutterIt(filepath=filepath)\n",
        "array = cut.array\n",
        "undercuts = cut.get_under_cuts(array)\n",
        "keeps_sec = cut.get_keeps_sec(undercuts)\n",
        "cut.cutter('keep_cutter.mp4', keeps_sec, file_type='mp4') # or .mp3\n",
        "\n",
        "# if want only silent part\n",
        "cut.cutter('silent_part.mp3', undercuts, file_type='mp3')"
      ],
      "metadata": {
        "id": "x91VqaooOELU"
      },
      "execution_count": 4,
      "outputs": []
    },
    {
      "cell_type": "markdown",
      "source": [
        "## Pre-timed subtitles"
      ],
      "metadata": {
        "id": "qPMpdkAbjNuF"
      }
    },
    {
      "cell_type": "code",
      "source": [
        "from timesub import Timesub\n",
        "\n",
        "tsub = Timesub(filepath='video.mp4')\n",
        "keeps_sec_subtitle = tsub.get_timesub()\n",
        "tsub.get_srtfile('timesub.srt', keeps_sec_subtitle)"
      ],
      "metadata": {
        "id": "gUU35CSWjRBO"
      },
      "execution_count": null,
      "outputs": []
    }
  ]
}