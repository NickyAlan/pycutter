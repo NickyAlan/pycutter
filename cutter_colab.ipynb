{
  "nbformat": 4,
  "nbformat_minor": 0,
  "metadata": {
    "colab": {
      "provenance": [],
      "authorship_tag": "ABX9TyPVFGVymC5DX4UzlvErisOB",
      "include_colab_link": true
    },
    "kernelspec": {
      "name": "python3",
      "display_name": "Python 3"
    },
    "language_info": {
      "name": "python"
    }
  },
  "cells": [
    {
      "cell_type": "markdown",
      "metadata": {
        "id": "view-in-github",
        "colab_type": "text"
      },
      "source": [
        "<a href=\"https://colab.research.google.com/github/NickygenN1/pycutter/blob/main/cutter_colab.ipynb\" target=\"_parent\"><img src=\"https://colab.research.google.com/assets/colab-badge.svg\" alt=\"Open In Colab\"/></a>"
      ]
    },
    {
      "cell_type": "code",
      "execution_count": null,
      "metadata": {
        "id": "bjOKf1jQM92N"
      },
      "outputs": [],
      "source": [
        "!git clone https://github.com/NickygenN1/pycutter.git\n",
        "\n",
        "import os\n",
        "os.chdir('pycutter')\n",
        "!pip install -r requirements.txt"
      ]
    },
    {
      "cell_type": "code",
      "source": [
        "from cutter import CutterIt\n",
        "\n",
        "# upload and move file into pycutter folder\n",
        "filepath = 'test.mp4'\n",
        "\n",
        "cut = CutterIt(filepath=filepath)\n",
        "array = cut.array\n",
        "undercuts = cut.get_under_cuts(array)\n",
        "keeps_sec = cut.get_keeps_sec(undercuts)\n",
        "cut.cutter('keep_cutter.mp4', keeps_sec, file_type='mp4') # or .mp3\n",
        "\n",
        "# if want only silent part\n",
        "cut.cutter('silent_part.mp4', undercuts, file_type='mp4')\n",
        "\n",
        "# delete temporary folder\n",
        "cut.typer.close()\n",
        "cut.remove_temp()"
      ],
      "metadata": {
        "id": "x91VqaooOELU"
      },
      "execution_count": null,
      "outputs": []
    }
  ]
}