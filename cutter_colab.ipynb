{
  "nbformat": 4,
  "nbformat_minor": 0,
  "metadata": {
    "colab": {
      "provenance": [],
      "authorship_tag": "ABX9TyOvcSX0GEYj4lF+vED1gzaf",
      "include_colab_link": true
    },
    "kernelspec": {
      "name": "python3",
      "display_name": "Python 3"
    },
    "language_info": {
      "name": "python"
    }
  },
  "cells": [
    {
      "cell_type": "markdown",
      "metadata": {
        "id": "view-in-github",
        "colab_type": "text"
      },
      "source": [
        "<a href=\"https://colab.research.google.com/github/NickygenN1/pycutter/blob/main/cutter_colab.ipynb\" target=\"_parent\"><img src=\"https://colab.research.google.com/assets/colab-badge.svg\" alt=\"Open In Colab\"/></a>"
      ]
    },
    {
      "cell_type": "code",
      "execution_count": null,
      "metadata": {
        "id": "bjOKf1jQM92N"
      },
      "outputs": [],
      "source": [
        "!git clone https://github.com/NickygenN1/pycutter.git\n",
        "\n",
        "import os\n",
        "os.chdir('pycutter')\n",
        "!pip install -r requirements.txt"
      ]
    },
    {
      "cell_type": "code",
      "source": [
        "from cutter import CutterIt\n",
        "\n",
        "# upload and move file into pycutter folder\n",
        "filepath = 'test.mp4'\n",
        "\n",
        "cut = CutterIt(filepath=filepath)\n",
        "array = cut.array\n",
        "undercuts = cut.get_under_cuts(array)\n",
        "keeps_sec = cut.get_keeps_sec(undercuts)\n",
        "undercuts_smooth = cut.get_undercuts_smooth(undercuts)\n",
        "\n",
        "cut.cutter('keep_speech_part.mp4', keeps_sec, file_type='mp4')\n",
        "cut.cutter('silent_part.mp4', undercuts_smooth, file_type='mp4')"
      ],
      "metadata": {
        "id": "x91VqaooOELU"
      },
      "execution_count": 3,
      "outputs": []
    }
  ]
}