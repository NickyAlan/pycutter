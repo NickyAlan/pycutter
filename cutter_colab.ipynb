{
  "nbformat": 4,
  "nbformat_minor": 0,
  "metadata": {
    "colab": {
      "provenance": [],
      "authorship_tag": "ABX9TyPKh43SxHyasByfNxvsr80A",
      "include_colab_link": true
    },
    "kernelspec": {
      "name": "python3",
      "display_name": "Python 3"
    },
    "language_info": {
      "name": "python"
    }
  },
  "cells": [
    {
      "cell_type": "markdown",
      "metadata": {
        "id": "view-in-github",
        "colab_type": "text"
      },
      "source": [
        "<a href=\"https://colab.research.google.com/github/NickygenN1/pycutter/blob/main/cutter_colab.ipynb\" target=\"_parent\"><img src=\"https://colab.research.google.com/assets/colab-badge.svg\" alt=\"Open In Colab\"/></a>"
      ]
    },
    {
      "cell_type": "code",
      "execution_count": 1,
      "metadata": {
        "colab": {
          "base_uri": "https://localhost:8080/"
        },
        "id": "bjOKf1jQM92N",
        "outputId": "38ec3cf0-8ffd-47a8-fb76-8e8e199c02d0"
      },
      "outputs": [
        {
          "output_type": "stream",
          "name": "stdout",
          "text": [
            "fatal: destination path 'pycutter' already exists and is not an empty directory.\n"
          ]
        }
      ],
      "source": [
        "!git clone https://github.com/NickygenN1/pycutter.git\n",
        "\n",
        "import os\n",
        "os.chdir('pycutter')\n",
        "# remove uninstall after restart runtime\n",
        "!pip uninstall -r requirements.txt\n",
        "!pip install -r requirements.txt"
      ]
    },
    {
      "cell_type": "code",
      "source": [
        "from cutter import CutterIt\n",
        "\n",
        "filepath = 'steve_jobs.mp4'\n",
        "cut = CutterIt(filepath=filepath)\n",
        "array = cut.array\n",
        "under_cuts_list = cut.get_under_cuts(array, alpha=96)\n",
        "keep_list = cut.get_keeps_sec(under_cuts_list)\n",
        "cut.cutter('keep_cutter', keep_list, file_type='mp4')\n",
        "cut.cutter('remove_cutter', under_cuts_list, file_type='mp4')"
      ],
      "metadata": {
        "id": "x91VqaooOELU"
      },
      "execution_count": 10,
      "outputs": []
    }
  ]
}